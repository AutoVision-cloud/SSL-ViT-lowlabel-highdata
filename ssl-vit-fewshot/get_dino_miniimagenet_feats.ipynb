{
 "cells": [
  {
   "cell_type": "markdown",
   "metadata": {},
   "source": [
    "## ============ Imports ============ "
   ]
  },
  {
   "cell_type": "code",
   "execution_count": null,
   "metadata": {},
   "outputs": [],
   "source": [
    "# Copyright (c) Facebook, Inc. and its affiliates.\n",
    "# \n",
    "# Licensed under the Apache License, Version 2.0 (the \"License\");\n",
    "# you may not use this file except in compliance with the License.\n",
    "# You may obtain a copy of the License at\n",
    "# \n",
    "#     http://www.apache.org/licenses/LICENSE-2.0\n",
    "# \n",
    "# Unless required by applicable law or agreed to in writing, software\n",
    "# distributed under the License is distributed on an \"AS IS\" BASIS,\n",
    "# WITHOUT WARRANTIES OR CONDITIONS OF ANY KIND, either express or implied.\n",
    "# See the License for the specific language governing permissions and\n",
    "# limitations under the License.\n",
    "\n",
    "\n",
    "import os\n",
    "import sys\n",
    "import argparse\n",
    "\n",
    "import torch\n",
    "from torch import nn\n",
    "import torch.distributed as dist\n",
    "import torch.backends.cudnn as cudnn\n",
    "from torchvision import datasets\n",
    "from torchvision import transforms as pth_transforms\n",
    "from torchvision import models as torchvision_models\n",
    "\n",
    "import utils\n",
    "import vision_transformer as vits\n",
    "from vision_transformer import DINOHead"
   ]
  },
  {
   "cell_type": "markdown",
   "metadata": {},
   "source": [
    "## ============ Extract features for Few-Shot Task  ============ "
   ]
  },
  {
   "cell_type": "code",
   "execution_count": null,
   "metadata": {},
   "outputs": [],
   "source": [
    "def extract_feature_pipeline():\n",
    "    # ============ preparing data ... ============\n",
    "    transform = pth_transforms.Compose([\n",
    "        pth_transforms.Resize(256, interpolation=3),\n",
    "        pth_transforms.CenterCrop(224),\n",
    "        pth_transforms.ToTensor(),\n",
    "        pth_transforms.Normalize((0.485, 0.456, 0.406), (0.229, 0.224, 0.225)),\n",
    "    ])\n",
    "    dataset_train = ReturnIndexDataset(os.path.join(data_path, \"train\"), transform=transform)\n",
    "    #dataset_val = ReturnIndexDataset(os.path.join( data_path, \"val\"), transform=transform)\n",
    "    dataset_val = ReturnIndexDataset(os.path.join( data_path, \"test\"), transform=transform)\n",
    "    \n",
    "    sampler = torch.utils.data.DistributedSampler(dataset_train, shuffle=False)\n",
    "    data_loader_train = torch.utils.data.DataLoader(\n",
    "        dataset_train,\n",
    "        sampler=sampler,\n",
    "        batch_size= batch_size_per_gpu,\n",
    "        num_workers= num_workers,\n",
    "        pin_memory=True,\n",
    "        drop_last=False,\n",
    "    )\n",
    "    data_loader_val = torch.utils.data.DataLoader(\n",
    "        dataset_val,\n",
    "        batch_size= batch_size_per_gpu,\n",
    "        num_workers= num_workers,\n",
    "        pin_memory=True,\n",
    "        drop_last=False,\n",
    "    )\n",
    "    print(f\"Data loaded with {len(dataset_train)} train and {len(dataset_val)} val imgs.\")\n",
    "\n",
    "    # ============ building network ... ============\n",
    "    if \"vit\" in  arch:\n",
    "        model = vits.__dict__[ arch](patch_size= patch_size, num_classes=0)\n",
    "        print(f\"Model { arch} { patch_size}x{ patch_size} built.\")\n",
    "    elif \"xcit\" in  arch:\n",
    "        model = torch.hub.load('facebookresearch/xcit',  arch, num_classes=0)\n",
    "    elif  arch in torchvision_models.__dict__.keys():\n",
    "        model = torchvision_models.__dict__[ arch](num_classes=0)\n",
    "    else:\n",
    "        print(f\"Architecture { arch} non supported\")\n",
    "        sys.exit(1)\n",
    "    model.cuda()\n",
    "    utils.load_pretrained_weights(model,\n",
    "                                  pretrained_weights, \n",
    "                                  checkpoint_key,  \n",
    "                                  arch,  \n",
    "                                  patch_size)\n",
    "    model.eval()\n",
    "\n",
    "    # ============ extract features ... ============\n",
    "    print(\"Extracting features for train set...\")\n",
    "    train_features = extract_features(model, data_loader_train,  use_cuda)\n",
    "    print(\"Extracting features for val set...\")\n",
    "    test_features = extract_features(model, data_loader_val,  use_cuda)\n",
    "\n",
    "    if utils.get_rank() == 0:\n",
    "        train_features = nn.functional.normalize(train_features, dim=1, p=2)\n",
    "        test_features = nn.functional.normalize(test_features, dim=1, p=2)\n",
    "\n",
    "    train_labels = torch.tensor([s[-1] for s in dataset_train.samples]).long()\n",
    "    test_labels = torch.tensor([s[-1] for s in dataset_val.samples]).long()\n",
    "    # save features and labels\n",
    "    if  dump_features and dist.get_rank() == 0:\n",
    "        torch.save(train_features.cpu(), os.path.join( dump_features, \"trainfeat.pth\"))\n",
    "        torch.save(test_features.cpu(), os.path.join( dump_features, \"testfeat.pth\"))\n",
    "        torch.save(train_labels.cpu(), os.path.join( dump_features, \"trainlabels.pth\"))\n",
    "        torch.save(test_labels.cpu(), os.path.join( dump_features, \"testlabels.pth\"))\n",
    "    return train_features, test_features, train_labels, test_labels\n",
    "\n",
    "\n",
    "@torch.no_grad()\n",
    "def extract_features(model, data_loader, use_cuda=True, multiscale=False):\n",
    "    metric_logger = utils.MetricLogger(delimiter=\"  \")\n",
    "    features = None\n",
    "    for samples, index in metric_logger.log_every(data_loader, 10):\n",
    "        samples = samples.cuda(non_blocking=True)\n",
    "        index = index.cuda(non_blocking=True)\n",
    "        if multiscale:\n",
    "            feats = utils.multi_scale(samples, model)\n",
    "        else:\n",
    "            feats = model(samples).clone()\n",
    "\n",
    "        # init storage feature matrix\n",
    "        if dist.get_rank() == 0 and features is None:\n",
    "            features = torch.zeros(len(data_loader.dataset), feats.shape[-1])\n",
    "            if use_cuda:\n",
    "                features = features.cuda(non_blocking=True)\n",
    "            print(f\"Storing features into tensor of shape {features.shape}\")\n",
    "\n",
    "        # get indexes from all processes\n",
    "        y_all = torch.empty(dist.get_world_size(), index.size(0), dtype=index.dtype, device=index.device)\n",
    "        y_l = list(y_all.unbind(0))\n",
    "        y_all_reduce = torch.distributed.all_gather(y_l, index, async_op=True)\n",
    "        y_all_reduce.wait()\n",
    "        index_all = torch.cat(y_l)\n",
    "\n",
    "        # share features between processes\n",
    "        feats_all = torch.empty(\n",
    "            dist.get_world_size(),\n",
    "            feats.size(0),\n",
    "            feats.size(1),\n",
    "            dtype=feats.dtype,\n",
    "            device=feats.device,\n",
    "        )\n",
    "        output_l = list(feats_all.unbind(0))\n",
    "        output_all_reduce = torch.distributed.all_gather(output_l, feats, async_op=True)\n",
    "        output_all_reduce.wait()\n",
    "\n",
    "        # update storage feature matrix\n",
    "        if dist.get_rank() == 0:\n",
    "            if use_cuda:\n",
    "                features.index_copy_(0, index_all, torch.cat(output_l))\n",
    "            else:\n",
    "                features.index_copy_(0, index_all.cpu(), torch.cat(output_l).cpu())\n",
    "    return features\n",
    "\n",
    "\n",
    "class ReturnIndexDataset(datasets.ImageFolder):\n",
    "    def __getitem__(self, idx):\n",
    "        img, lab = super(ReturnIndexDataset, self).__getitem__(idx)\n",
    "        return img, idx"
   ]
  },
  {
   "cell_type": "markdown",
   "metadata": {},
   "source": [
    "# ============ Setup the torch distributed ============ "
   ]
  },
  {
   "cell_type": "code",
   "execution_count": null,
   "metadata": {},
   "outputs": [],
   "source": [
    "def init_distributed_mode():\n",
    "    # launched with torch.distributed.launch\n",
    "    if 'RANK' in os.environ and 'WORLD_SIZE' in os.environ:\n",
    "        rank = int(os.environ[\"RANK\"])\n",
    "        world_size = int(os.environ['WORLD_SIZE'])\n",
    "        gpu = int(os.environ['LOCAL_RANK'])\n",
    "    # launched with submitit on a slurm cluster\n",
    "    elif 'SLURM_PROCID' in os.environ:\n",
    "        rank = int(os.environ['SLURM_PROCID'])\n",
    "        gpu = rank % torch.cuda.device_count()\n",
    "    # launched naively with `python main_dino.py`\n",
    "    # we manually add MASTER_ADDR and MASTER_PORT to env variables\n",
    "    elif torch.cuda.is_available():\n",
    "        print('Will run the code on one GPU.')\n",
    "        rank, gpu, world_size = 0, 0, 1\n",
    "        os.environ['MASTER_ADDR'] = '127.0.0.1'\n",
    "        os.environ['MASTER_PORT'] = '29500'\n",
    "    else:\n",
    "        print('Does not support training without GPU.')\n",
    "        sys.exit(1)\n",
    "\n",
    "    dist.init_process_group(\n",
    "        backend=\"nccl\",\n",
    "        init_method=dist_url,\n",
    "        world_size=world_size,\n",
    "        rank=rank,\n",
    "    )\n",
    "\n",
    "    torch.cuda.set_device(gpu)\n",
    "    print('| distributed init (rank {}): {}'.format(\n",
    "        rank, dist_url), flush=True)\n",
    "    dist.barrier()"
   ]
  },
  {
   "cell_type": "markdown",
   "metadata": {},
   "source": [
    "# ============ Setup the hyperparameters ============ "
   ]
  },
  {
   "cell_type": "code",
   "execution_count": null,
   "metadata": {},
   "outputs": [],
   "source": [
    "batch_size_per_gpu=128\n",
    "temperature=0.07\n",
    "pretrained_weights='../dino_ckpt/mini_imagenet_checkpoint.pth'\n",
    "use_cuda=True\n",
    "arch='vit_small'\n",
    "patch_size=16\n",
    "checkpoint_key=\"teacher\"\n",
    "dump_features=None\n",
    "load_features=None\n",
    "num_workers=10\n",
    "dist_url=\"env://\"\n",
    "local_rank=0\n",
    "data_path = '../data/'\n",
    "\n",
    "init_distributed_mode()\n",
    "print(\"git:\\n  {}\\n\".format(utils.get_sha()))\n",
    "\n",
    "cudnn.benchmark = True"
   ]
  },
  {
   "cell_type": "markdown",
   "metadata": {},
   "source": [
    "# ============ Do the actual feature extraction here  ============ "
   ]
  },
  {
   "cell_type": "code",
   "execution_count": null,
   "metadata": {},
   "outputs": [],
   "source": [
    "if  load_features:\n",
    "    train_features = torch.load(os.path.join( load_features, \"trainfeat.pth\"))\n",
    "    test_features = torch.load(os.path.join( load_features, \"testfeat.pth\"))\n",
    "    train_labels = torch.load(os.path.join( load_features, \"trainlabels.pth\"))\n",
    "    test_labels = torch.load(os.path.join( load_features, \"testlabels.pth\"))\n",
    "else:\n",
    "    # need to extract features !\n",
    "    train_features, test_features, train_labels, test_labels = extract_feature_pipeline()"
   ]
  },
  {
   "cell_type": "markdown",
   "metadata": {},
   "source": [
    "## ============ Arrange for few-shot task  ============ "
   ]
  },
  {
   "cell_type": "code",
   "execution_count": null,
   "metadata": {},
   "outputs": [],
   "source": [
    "def unique(x, dim=None):\n",
    "    \"\"\"Unique elements of x and indices of those unique elements\n",
    "    https://github.com/pytorch/pytorch/issues/36748#issuecomment-619514810\n",
    "\n",
    "    e.g.\n",
    "\n",
    "    unique(tensor([\n",
    "        [1, 2, 3],\n",
    "        [1, 2, 4],\n",
    "        [1, 2, 3],\n",
    "        [1, 2, 5]\n",
    "    ]), dim=0)\n",
    "    => (tensor([[1, 2, 3],\n",
    "                [1, 2, 4],\n",
    "                [1, 2, 5]]),\n",
    "        tensor([0, 1, 3]))\n",
    "    \"\"\"\n",
    "    unique, inverse = torch.unique(\n",
    "        x, sorted=True, return_inverse=True, dim=dim)\n",
    "    perm = torch.arange(inverse.size(0), dtype=inverse.dtype,\n",
    "                        device=inverse.device)\n",
    "    inverse, perm = inverse.flip([0]), perm.flip([0])\n",
    "    return unique, inverse.new_empty(unique.size(0)).scatter_(0, inverse, perm)\n",
    "\n",
    "train_features_cp, idx = unique(train_features, dim=0)\n",
    "train_labels_cp = train_labels[idx.cpu().numpy()]"
   ]
  },
  {
   "cell_type": "code",
   "execution_count": null,
   "metadata": {},
   "outputs": [],
   "source": [
    "train_dict = {}\n",
    "train_dict.fromkeys(range(0, 64))\n",
    "\n",
    "for i in range(64):\n",
    "    idx = torch.where(train_labels_cp==i)[0]\n",
    "    train_dict[i] = train_features_cp[idx.cpu().numpy()].cpu().numpy()"
   ]
  },
  {
   "cell_type": "code",
   "execution_count": null,
   "metadata": {},
   "outputs": [],
   "source": [
    "import pickle\n",
    "pickle.dump( train_dict, open( \"../dino_features_data/dino_train_miniimagenet.p\", \"wb\" ) )"
   ]
  },
  {
   "cell_type": "code",
   "execution_count": null,
   "metadata": {},
   "outputs": [],
   "source": [
    "test_features_cp, idx = unique(test_features, dim=0)\n",
    "test_labels_cp = test_labels[idx.cpu().numpy()]"
   ]
  },
  {
   "cell_type": "code",
   "execution_count": null,
   "metadata": {},
   "outputs": [],
   "source": [
    "test_dict = {}\n",
    "test_dict.fromkeys(range(0, 20))\n",
    "\n",
    "for i in range(20):\n",
    "    idx = torch.where(test_labels_cp==i)[0]\n",
    "    test_dict[i+80] = test_features_cp[idx.cpu().numpy()].cpu().numpy()"
   ]
  },
  {
   "cell_type": "code",
   "execution_count": null,
   "metadata": {},
   "outputs": [],
   "source": [
    "pickle.dump( test_dict, open( \"../dino_features_data/dino_test_miniimagenet.p\", \"wb\" ) )"
   ]
  },
  {
   "cell_type": "code",
   "execution_count": null,
   "metadata": {},
   "outputs": [],
   "source": []
  }
 ],
 "metadata": {
  "kernelspec": {
   "display_name": "Python 3",
   "language": "python",
   "name": "python3"
  },
  "language_info": {
   "codemirror_mode": {
    "name": "ipython",
    "version": 3
   },
   "file_extension": ".py",
   "mimetype": "text/x-python",
   "name": "python",
   "nbconvert_exporter": "python",
   "pygments_lexer": "ipython3",
   "version": "3.6.9"
  }
 },
 "nbformat": 4,
 "nbformat_minor": 5
}
